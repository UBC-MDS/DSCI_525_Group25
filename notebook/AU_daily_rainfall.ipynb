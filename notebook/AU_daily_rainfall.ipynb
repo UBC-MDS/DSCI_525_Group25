{
 "cells": [
  {
   "cell_type": "markdown",
   "id": "51caa525-070f-4bca-bd8e-9bcce5bb1675",
   "metadata": {},
   "source": [
    "## 1. Download And Extract"
   ]
  },
  {
   "cell_type": "code",
   "execution_count": 3,
   "id": "10e09c08-da5e-481a-a18a-88eea734cfb8",
   "metadata": {},
   "outputs": [],
   "source": [
    "import glob\n",
    "import json\n",
    "import os\n",
    "import re\n",
    "import zipfile\n",
    "from urllib.request import urlretrieve\n",
    "\n",
    "import pandas as pd\n",
    "import requests"
   ]
  },
  {
   "cell_type": "code",
   "execution_count": 18,
   "id": "951cf3c6-53c4-47bb-b94b-de42f709a033",
   "metadata": {},
   "outputs": [],
   "source": [
    "# Necessary metadata\n",
    "article_id = 14096681  # this is the unique identifier of the article on figshare\n",
    "url = f\"https://api.figshare.com/v2/articles/{article_id}\"\n",
    "headers = {\"Content-Type\": \"application/json\"}\n",
    "output_directory = \"../data/\""
   ]
  },
  {
   "cell_type": "code",
   "execution_count": 19,
   "id": "02acea01-49d7-43ab-81a6-013939f5094f",
   "metadata": {
    "tags": []
   },
   "outputs": [
    {
     "data": {
      "text/plain": [
       "[{'id': 26579150,\n",
       "  'name': 'daily_rainfall_2014.png',\n",
       "  'size': 58863,\n",
       "  'is_link_only': False,\n",
       "  'download_url': 'https://ndownloader.figshare.com/files/26579150',\n",
       "  'supplied_md5': 'fd32a2ffde300a31f8d63b1825d47e5e',\n",
       "  'computed_md5': 'fd32a2ffde300a31f8d63b1825d47e5e'},\n",
       " {'id': 26579171,\n",
       "  'name': 'environment.yml',\n",
       "  'size': 192,\n",
       "  'is_link_only': False,\n",
       "  'download_url': 'https://ndownloader.figshare.com/files/26579171',\n",
       "  'supplied_md5': '060b2020017eed93a1ee7dd8c65b2f34',\n",
       "  'computed_md5': '060b2020017eed93a1ee7dd8c65b2f34'},\n",
       " {'id': 26586554,\n",
       "  'name': 'README.md',\n",
       "  'size': 5422,\n",
       "  'is_link_only': False,\n",
       "  'download_url': 'https://ndownloader.figshare.com/files/26586554',\n",
       "  'supplied_md5': '61858c6cc0e6a6d6663a7e4c75bbd88c',\n",
       "  'computed_md5': '61858c6cc0e6a6d6663a7e4c75bbd88c'},\n",
       " {'id': 26766812,\n",
       "  'name': 'data.zip',\n",
       "  'size': 814041183,\n",
       "  'is_link_only': False,\n",
       "  'download_url': 'https://ndownloader.figshare.com/files/26766812',\n",
       "  'supplied_md5': 'b517383f76e77bd03755a63a8ff83ee9',\n",
       "  'computed_md5': 'b517383f76e77bd03755a63a8ff83ee9'},\n",
       " {'id': 26766815,\n",
       "  'name': 'get_data.py',\n",
       "  'size': 4113,\n",
       "  'is_link_only': False,\n",
       "  'download_url': 'https://ndownloader.figshare.com/files/26766815',\n",
       "  'supplied_md5': '7829028495fd9dec9680ea013474afa6',\n",
       "  'computed_md5': '7829028495fd9dec9680ea013474afa6'}]"
      ]
     },
     "execution_count": 19,
     "metadata": {},
     "output_type": "execute_result"
    }
   ],
   "source": [
    "# Get the files data\n",
    "response = requests.request(\"GET\", url, headers=headers)\n",
    "data = json.loads(response.text)\n",
    "files = data[\"files\"]\n",
    "files"
   ]
  },
  {
   "cell_type": "code",
   "execution_count": null,
   "id": "8f2c115c-42c9-4d15-8006-70cdf082bdbb",
   "metadata": {},
   "outputs": [],
   "source": [
    "%%time\n",
    "# Downlaod the file\n",
    "files_to_dl = [\"data.zip\"]\n",
    "for file in files:\n",
    "    if file[\"name\"] in files_to_dl:\n",
    "        os.makedirs(output_directory, exist_ok=True)\n",
    "        urlretrieve(file[\"download_url\"], output_directory + file[\"name\"])"
   ]
  },
  {
   "cell_type": "markdown",
   "id": "bab3f2ab-1da1-436d-b484-b815ba39f788",
   "metadata": {},
   "source": [
    "| Team Member | Operating System | RAM | Processor | Is SSD | Time taken |\n",
    "|:-----------:|:----------------:|:---:|:---------:|:------:|:----------:|\n",
    "| Vanessa Yuen  | Windows 10 Pro | 16GB  | AMD Ryzen 7  |  Y      |  1min 13s |\n",
    "| Zheren Xu   | macOS Big Sur Version 11.6  |   16GB |  Apple M1 |Y|57.2s|\n",
    "| Mahmoodur Rahman    | macOS Montereey Version 12.3  |  32GB  | Intel Core i9 | Y| 8.08 s |\n",
    "| Anupriya Srivastava    | Windows 10 Pro | 16GB | Intel i5-7200U | Y | 2min 16s           |"
   ]
  },
  {
   "cell_type": "code",
   "execution_count": null,
   "id": "136a3739-01a5-4db9-a71d-c06f671990d4",
   "metadata": {},
   "outputs": [],
   "source": [
    "%%time\n",
    "# Extract the zip file\n",
    "with zipfile.ZipFile(os.path.join(output_directory, \"data.zip\"), \"r\") as f:\n",
    "    f.extractall(output_directory)"
   ]
  },
  {
   "cell_type": "markdown",
   "id": "7ea8f665-5993-4824-a0cd-5993000d4a98",
   "metadata": {},
   "source": [
    "| Team Member | Operating System | RAM | Processor | Is SSD | Time taken |\n",
    "|:-----------:|:----------------:|:---:|:---------:|:------:|:----------:|\n",
    "| Vanessa Yuen  | Windows 10 Pro | 16GB  | AMD Ryzen 7  |  Y      | 23.5 s |\n",
    "| Zheren Xu   | macOS Big Sur Version 11.6  |   16GB |  Apple M1 |Y|15.9 s|\n",
    "| Mahmoodur Rahman    | macOS Montereey Version 12.3  |  32GB  | Intel Core i9 | Y| 16.5 s |\n",
    "| Anupriya Srivastava    | Windows 10 Pro | 16GB | Intel i5-7200U | Y | 27.7 s           |"
   ]
  },
  {
   "cell_type": "markdown",
   "id": "1948b38d-f500-4772-9b21-5fa75973afc5",
   "metadata": {},
   "source": [
    "## 2. Combining data CSVs"
   ]
  },
  {
   "cell_type": "code",
   "execution_count": 4,
   "id": "15348df8-09d0-4cda-976e-25c2364683a3",
   "metadata": {},
   "outputs": [
    {
     "name": "stdout",
     "output_type": "stream",
     "text": [
      "CPU times: total: 6min 31s\n",
      "Wall time: 6min 32s\n"
     ]
    }
   ],
   "source": [
    "%%time\n",
    "# Combine the CSV\n",
    "# Remember to remove 'observed_daily_rainfall_SYD.csv' before running this cell\n",
    "use_cols = [\n",
    "    \"time\",\n",
    "    \"lat_min\",\n",
    "    \"lat_max\",\n",
    "    \"lon_min\",\n",
    "    \"lon_max\",\n",
    "    \"rain (mm/day)\",\n",
    "]\n",
    "\n",
    "files = glob.glob(\"../data/*.csv\")\n",
    "\n",
    "\n",
    "df = pd.concat(\n",
    "    (\n",
    "        pd.read_csv(file, index_col=0, usecols=use_cols).assign(\n",
    "            model=re.findall(r\"[^\\\\]+(?=\\_daily_rainfall)\", file)[0]\n",
    "        )\n",
    "        for file in files\n",
    "    )\n",
    ")\n",
    "df.to_csv(\"../data/combined_data.csv\")"
   ]
  },
  {
   "cell_type": "markdown",
   "id": "c6e3bce7-f8d2-485f-ae67-b0f3ea814c57",
   "metadata": {},
   "source": [
    "#### Compare"
   ]
  },
  {
   "cell_type": "markdown",
   "id": "29f73e1c-1575-45fb-818c-28d9f864db8c",
   "metadata": {},
   "source": [
    "| Team Member | Operating System | RAM | Processor | Is SSD | Time taken |\n",
    "|:-----------:|:----------------:|:---:|:---------:|:------:|:----------:|\n",
    "| Vanessa Yuen  | Windows 10 Pro | 16GB  | AMD Ryzen 7  |  Y      |   7min 17s |\n",
    "| Zheren Xu   | macOS Big Sur  |   16GB |  Apple M1 |Y|6min 14s|\n",
    "| Mahmoodur Rahman    | macOS Montereey Version 12.3  |  32GB  | Intel Core i9 | Y| 6min 9s |\n",
    "| Anupriya Srivastava    | Windows 10 Pro | 16GB | Intel i5-7200U | Y |   10min 7s         |"
   ]
  },
  {
   "cell_type": "markdown",
   "id": "135e9bdc-dd1e-4ff5-a527-520224693c0b",
   "metadata": {},
   "source": [
    "On average, mac takes slightly shorter time for combining CSV than Windows.  Faster processors definitely run the task faster.  For RAM, it doesn't show any difference from our result, possibly because all the machines are equipped with at least 16GB which is sufficient for the task."
   ]
  },
  {
   "cell_type": "markdown",
   "id": "06ea4037-61ce-499a-a2be-431c7e807599",
   "metadata": {},
   "source": [
    "## 3. Simple EDA\n",
    "\n",
    "### 3.1 Sanity Check"
   ]
  },
  {
   "cell_type": "code",
   "execution_count": 5,
   "id": "bced0c40-b665-436c-a90a-9ad7808d262f",
   "metadata": {},
   "outputs": [
    {
     "name": "stdout",
     "output_type": "stream",
     "text": [
      "(62467843, 6)\n",
      "                     lat_min  lat_max  lon_min  lon_max  rain (mm/day)  \\\n",
      "time                                                                     \n",
      "1889-01-01 12:00:00   -36.25    -35.0  140.625    142.5   3.293256e-13   \n",
      "1889-01-02 12:00:00   -36.25    -35.0  140.625    142.5   0.000000e+00   \n",
      "1889-01-03 12:00:00   -36.25    -35.0  140.625    142.5   0.000000e+00   \n",
      "1889-01-04 12:00:00   -36.25    -35.0  140.625    142.5   0.000000e+00   \n",
      "1889-01-05 12:00:00   -36.25    -35.0  140.625    142.5   1.047658e-02   \n",
      "\n",
      "                          model  \n",
      "time                             \n",
      "1889-01-01 12:00:00  ACCESS-CM2  \n",
      "1889-01-02 12:00:00  ACCESS-CM2  \n",
      "1889-01-03 12:00:00  ACCESS-CM2  \n",
      "1889-01-04 12:00:00  ACCESS-CM2  \n",
      "1889-01-05 12:00:00  ACCESS-CM2  \n"
     ]
    }
   ],
   "source": [
    "print(df.shape)\n",
    "print(df.head())"
   ]
  },
  {
   "cell_type": "code",
   "execution_count": null,
   "id": "a815cf2d-11b4-4f01-bb93-206f4c7d06ce",
   "metadata": {},
   "outputs": [],
   "source": [
    "df.info()"
   ]
  },
  {
   "cell_type": "markdown",
   "id": "44930808-548c-4b7c-a491-4caecccf2924",
   "metadata": {},
   "source": [
    "### 3.2 Load just columns what we want\n",
    "\n",
    "#### Load all columns"
   ]
  },
  {
   "cell_type": "code",
   "execution_count": 9,
   "id": "98546c88-1277-4e64-8b85-47064ef5fba6",
   "metadata": {},
   "outputs": [
    {
     "name": "stdout",
     "output_type": "stream",
     "text": [
      "MPI-ESM1-2-HR       5154240\n",
      "TaiESM1             3541230\n",
      "NorESM2-MM          3541230\n",
      "CMCC-CM2-HR4        3541230\n",
      "CMCC-CM2-SR5        3541230\n",
      "CMCC-ESM2           3541230\n",
      "SAM0-UNICON         3541153\n",
      "FGOALS-f3-L         3219300\n",
      "GFDL-CM4            3219300\n",
      "GFDL-ESM4           3219300\n",
      "EC-Earth3-Veg-LR    3037320\n",
      "MRI-ESM2-0          3037320\n",
      "BCC-CSM2-MR         3035340\n",
      "MIROC6              2070900\n",
      "ACCESS-CM2          1932840\n",
      "ACCESS-ESM1-5       1610700\n",
      "INM-CM5-0           1609650\n",
      "INM-CM4-8           1609650\n",
      "KIOST-ESM           1287720\n",
      "FGOALS-g3           1287720\n",
      "MPI-ESM1-2-LR        966420\n",
      "NESM3                966420\n",
      "AWI-ESM-1-1-LR       966420\n",
      "MPI-ESM-1-2-HAM      966420\n",
      "NorESM2-LM           919800\n",
      "BCC-ESM1             551880\n",
      "CanESM5              551880\n",
      "Name: model, dtype: int64\n",
      "CPU times: total: 1min 35s\n",
      "Wall time: 1min 43s\n"
     ]
    }
   ],
   "source": [
    "%%time\n",
    "df_all_col = pd.read_csv(\"../data/combined_data.csv\")\n",
    "print(df_all_col[\"model\"].value_counts())"
   ]
  },
  {
   "cell_type": "markdown",
   "id": "dc124270-2da1-4469-9bb3-10b97ebd1ff1",
   "metadata": {},
   "source": [
    "#### Load just what is needed"
   ]
  },
  {
   "cell_type": "code",
   "execution_count": 10,
   "id": "7a32a843-19df-45b1-aa80-c90cb49c6027",
   "metadata": {},
   "outputs": [
    {
     "name": "stdout",
     "output_type": "stream",
     "text": [
      "MPI-ESM1-2-HR       5154240\n",
      "TaiESM1             3541230\n",
      "NorESM2-MM          3541230\n",
      "CMCC-CM2-HR4        3541230\n",
      "CMCC-CM2-SR5        3541230\n",
      "CMCC-ESM2           3541230\n",
      "SAM0-UNICON         3541153\n",
      "FGOALS-f3-L         3219300\n",
      "GFDL-CM4            3219300\n",
      "GFDL-ESM4           3219300\n",
      "EC-Earth3-Veg-LR    3037320\n",
      "MRI-ESM2-0          3037320\n",
      "BCC-CSM2-MR         3035340\n",
      "MIROC6              2070900\n",
      "ACCESS-CM2          1932840\n",
      "ACCESS-ESM1-5       1610700\n",
      "INM-CM5-0           1609650\n",
      "INM-CM4-8           1609650\n",
      "KIOST-ESM           1287720\n",
      "FGOALS-g3           1287720\n",
      "MPI-ESM1-2-LR        966420\n",
      "NESM3                966420\n",
      "AWI-ESM-1-1-LR       966420\n",
      "MPI-ESM-1-2-HAM      966420\n",
      "NorESM2-LM           919800\n",
      "BCC-ESM1             551880\n",
      "CanESM5              551880\n",
      "Name: model, dtype: int64\n",
      "CPU times: total: 1min 7s\n",
      "Wall time: 1min 12s\n"
     ]
    }
   ],
   "source": [
    "%%time\n",
    "use_cols = [\"lat_min\", \"lon_min\", \"rain (mm/day)\", \"model\"]\n",
    "df_4_cols = pd.read_csv(\"../data/combined_data.csv\", usecols=use_cols)\n",
    "print(df_4_cols[\"model\"].value_counts())"
   ]
  },
  {
   "cell_type": "markdown",
   "id": "176abf79-5aee-4051-bc69-a2bf9fddfadf",
   "metadata": {},
   "source": [
    "#### Change dtype"
   ]
  },
  {
   "cell_type": "code",
   "execution_count": 11,
   "id": "f4acade4-334c-4610-9358-73d182286bef",
   "metadata": {},
   "outputs": [
    {
     "name": "stdout",
     "output_type": "stream",
     "text": [
      "MPI-ESM1-2-HR       5154240\n",
      "TaiESM1             3541230\n",
      "NorESM2-MM          3541230\n",
      "CMCC-CM2-HR4        3541230\n",
      "CMCC-CM2-SR5        3541230\n",
      "CMCC-ESM2           3541230\n",
      "SAM0-UNICON         3541153\n",
      "FGOALS-f3-L         3219300\n",
      "GFDL-CM4            3219300\n",
      "GFDL-ESM4           3219300\n",
      "EC-Earth3-Veg-LR    3037320\n",
      "MRI-ESM2-0          3037320\n",
      "BCC-CSM2-MR         3035340\n",
      "MIROC6              2070900\n",
      "ACCESS-CM2          1932840\n",
      "ACCESS-ESM1-5       1610700\n",
      "INM-CM5-0           1609650\n",
      "INM-CM4-8           1609650\n",
      "KIOST-ESM           1287720\n",
      "FGOALS-g3           1287720\n",
      "MPI-ESM1-2-LR        966420\n",
      "NESM3                966420\n",
      "AWI-ESM-1-1-LR       966420\n",
      "MPI-ESM-1-2-HAM      966420\n",
      "NorESM2-LM           919800\n",
      "BCC-ESM1             551880\n",
      "CanESM5              551880\n",
      "Name: model, dtype: int64\n",
      "CPU times: total: 1min 38s\n",
      "Wall time: 1min 47s\n"
     ]
    }
   ],
   "source": [
    "%%time\n",
    "df_change_type = pd.read_csv(\n",
    "    \"../data/combined_data.csv\",\n",
    "    dtype={\n",
    "        \"lat_min\": \"float32\",\n",
    "        \"lat_max\": \"float32\",\n",
    "        \"lon_min\": \"float32\",\n",
    "        \"lon_max\": \"float32\",\n",
    "        \"rain (mm/day)\": \"float32\",\n",
    "    },\n",
    ")\n",
    "print(df_change_type[\"model\"].value_counts())"
   ]
  },
  {
   "cell_type": "markdown",
   "id": "e59e7325-c9d3-4b48-bc96-7242d4c681c4",
   "metadata": {},
   "source": [
    "#### Compare"
   ]
  },
  {
   "cell_type": "markdown",
   "id": "d649b23c-f82d-4eb8-a75c-2045d56fcce1",
   "metadata": {},
   "source": [
    "| Team Member | Operating System | RAM | Processor | Is SSD | Load All Cols| Load what is needed | Change dtype|\n",
    "|:-----------:|:----------------:|:---:|:---------:|:------:|:----------:|:----------:|:----------:|\n",
    "| Vanessa Yuen  | Windows 10 Pro | 16GB  | AMD Ryzen 7  |  Y      |1min13s   |46.2s|1min11s |\n",
    "| Zheren Xu   | macOS Big Sur |   16GB |  Apple M1 |Y|57.8s|41.2s|57.4s|\n",
    "| Mahmoodur Rahman    | macOS Montereey Version 12.3  |  32GB  | Intel Core i9 | Y| 53.8 s |\n",
    "| Anupriya Srivastava    | Windows 10 Pro | 16GB | Intel i5-7200U | Y |    1min 44s | 1min 16s  | 1min 42s      |"
   ]
  },
  {
   "cell_type": "markdown",
   "id": "39f886eb-de41-453f-8723-8f6e7d142f9b",
   "metadata": {},
   "source": [
    "The dataset has 6 columns in total. If we only load the columns that we plan to work with, the time required will be reduced by about 30%-40% on different machines. From the experimental results, changing the data type (float64 -> float32) has little impact on the time, but this change reduces the memory usage by about half."
   ]
  },
  {
   "cell_type": "markdown",
   "id": "92f05acc-72ff-4df5-bee9-8da1cde876fc",
   "metadata": {},
   "source": [
    "## 4. Simple EDA in R"
   ]
  },
  {
   "cell_type": "markdown",
   "id": "8e0edc59-3c0d-445b-a14c-80df37742bc5",
   "metadata": {},
   "source": [
    "### 4.1 Transfer dataframe from python to R using Parquet format"
   ]
  },
  {
   "cell_type": "code",
   "execution_count": null,
   "id": "8bfeb929-28b8-403e-9364-f4604e2b0ba8",
   "metadata": {},
   "outputs": [],
   "source": [
    "%load_ext rpy2.ipython"
   ]
  },
  {
   "cell_type": "code",
   "execution_count": 12,
   "id": "d6ab96cd-655c-4ff5-bc15-f916d32bd31a",
   "metadata": {},
   "outputs": [],
   "source": [
    "df = pd.read_csv(\"../data/combined_data.csv\")\n",
    "df.to_parquet(\"../data/combined_data_partition\")"
   ]
  },
  {
   "cell_type": "code",
   "execution_count": 15,
   "id": "69e3a32b-1fb6-4b8f-9134-65fbb606ba63",
   "metadata": {},
   "outputs": [
    {
     "name": "stdout",
     "output_type": "stream",
     "text": [
      "Time difference of 6.700003 secs\n"
     ]
    },
    {
     "data": {
      "image/png": "[encoded data removed]"
     },
     "metadata": {},
     "output_type": "display_data"
    }
   ],
   "source": [
    "%%R\n",
    "start_time <- Sys.time()\n",
    "r_df <- read_parquet(\"../data/combined_data.parquet\")\n",
    "end_time <- Sys.time()\n",
    "print(end_time - start_time)\n",
    "\n",
    "result <- r_df %>% collect\n",
    "result <- r_df %>% count(model)\n",
    "hist <- result %>%\n",
    "    ggplot(aes(x=model, y=n)) + \n",
    "    geom_col()\n",
    "print(hist)"
   ]
  },
  {
   "cell_type": "markdown",
   "id": "0f06990f-2be9-4856-9478-986e21d25beb",
   "metadata": {},
   "source": [
    "### 4.2 Transfer dataframe from python to R using Arrow Exchange"
   ]
  },
  {
   "cell_type": "code",
   "execution_count": 22,
   "id": "0a322698-5b3c-4df0-a3d6-62d77c3e2305",
   "metadata": {},
   "outputs": [],
   "source": [
    "import pyarrow.dataset as ds\n",
    "import rpy2.robjects.lib.ggplot2 as gp\n",
    "import rpy2_arrow.pyarrow_rarrow as pyra\n",
    "from rpy2.ipython.ggplot import image_png"
   ]
  },
  {
   "cell_type": "code",
   "execution_count": 21,
   "id": "8df5d55f-02f5-47b6-9789-b14644b8e1f9",
   "metadata": {},
   "outputs": [
    {
     "name": "stdout",
     "output_type": "stream",
     "text": [
      "CPU times: total: 1min 20s\n",
      "Wall time: 1min 16s\n"
     ]
    }
   ],
   "source": [
    "%%time\n",
    "dataset = ds.dataset(\"../data/combined_data.csv\", format=\"csv\")\n",
    "table = dataset.to_table()\n",
    "r_table = pyra.converter.py2rpy(table)"
   ]
  },
  {
   "cell_type": "code",
   "execution_count": 19,
   "id": "8aaa8e07-5dcf-4727-9070-09c6947312ea",
   "metadata": {},
   "outputs": [
    {
     "name": "stdout",
     "output_type": "stream",
     "text": [
      "Time difference of 0.03129983 secs\n",
      "\u001b[38;5;246m# A tibble: 27 x 2\u001b[39m\n",
      "   model                  n\n",
      "   \u001b[3m\u001b[38;5;246m<chr>\u001b[39m\u001b[23m              \u001b[3m\u001b[38;5;246m<int>\u001b[39m\u001b[23m\n",
      "\u001b[38;5;250m 1\u001b[39m ACCESS-CM2       1\u001b[4m9\u001b[24m\u001b[4m3\u001b[24m\u001b[4m2\u001b[24m840\n",
      "\u001b[38;5;250m 2\u001b[39m ACCESS-ESM1-5    1\u001b[4m6\u001b[24m\u001b[4m1\u001b[24m\u001b[4m0\u001b[24m700\n",
      "\u001b[38;5;250m 3\u001b[39m AWI-ESM-1-1-LR    \u001b[4m9\u001b[24m\u001b[4m6\u001b[24m\u001b[4m6\u001b[24m420\n",
      "\u001b[38;5;250m 4\u001b[39m BCC-CSM2-MR      3\u001b[4m0\u001b[24m\u001b[4m3\u001b[24m\u001b[4m5\u001b[24m340\n",
      "\u001b[38;5;250m 5\u001b[39m BCC-ESM1          \u001b[4m5\u001b[24m\u001b[4m5\u001b[24m\u001b[4m1\u001b[24m880\n",
      "\u001b[38;5;250m 6\u001b[39m CanESM5           \u001b[4m5\u001b[24m\u001b[4m5\u001b[24m\u001b[4m1\u001b[24m880\n",
      "\u001b[38;5;250m 7\u001b[39m CMCC-CM2-HR4     3\u001b[4m5\u001b[24m\u001b[4m4\u001b[24m\u001b[4m1\u001b[24m230\n",
      "\u001b[38;5;250m 8\u001b[39m CMCC-CM2-SR5     3\u001b[4m5\u001b[24m\u001b[4m4\u001b[24m\u001b[4m1\u001b[24m230\n",
      "\u001b[38;5;250m 9\u001b[39m CMCC-ESM2        3\u001b[4m5\u001b[24m\u001b[4m4\u001b[24m\u001b[4m1\u001b[24m230\n",
      "\u001b[38;5;250m10\u001b[39m EC-Earth3-Veg-LR 3\u001b[4m0\u001b[24m\u001b[4m3\u001b[24m\u001b[4m7\u001b[24m320\n",
      "\u001b[38;5;246m# ... with 17 more rows\u001b[39m\n"
     ]
    },
    {
     "data": {
      "image/png": "[encoded data removed]"
     },
     "metadata": {},
     "output_type": "display_data"
    },
    {
     "name": "stdout",
     "output_type": "stream",
     "text": [
      "CPU times: total: 4.27 s\n",
      "Wall time: 4.81 s\n"
     ]
    }
   ],
   "source": [
    "%%time\n",
    "%%R -i r_table -w 800\n",
    "suppressMessages(library(dplyr))\n",
    "suppressMessages(library(tidyverse))\n",
    "start_time <- Sys.time()\n",
    "result <- r_table %>% count(model)\n",
    "end_time <- Sys.time()\n",
    "print(end_time - start_time)\n",
    "\n",
    "## Simple EDA\n",
    "df <- data.frame(result)\n",
    "hist <- df %>%\n",
    "    ggplot(aes(x=model, y=n)) + \n",
    "    geom_col()\n",
    "print(hist)\n",
    "print(result %>% collect())"
   ]
  },
  {
   "cell_type": "markdown",
   "id": "295b8ab7-d1b6-4892-8b76-ca6768031505",
   "metadata": {},
   "source": [
    "### 4.3 Why we choose Arrow Exchange over others\n",
    "1. Installation and usage is simple and easy\n",
    "2. Access of `dplr` functions\n",
    "3. Less time spent on serialization and deserialization than panda exchange (We have difficulties in loading the whole dataset with panda exchange)\n",
    "4. It is a zero-copy read, there is no need to have additional file like parquet file"
   ]
  },
  {
   "cell_type": "markdown",
   "id": "af9ae75e-7a53-44c1-8e61-284906177836",
   "metadata": {},
   "source": [
    "# Challenges and Difficulties"
   ]
  },
  {
   "cell_type": "markdown",
   "id": "30b9d530-c0ee-4b40-8f70-1d42e993dc16",
   "metadata": {},
   "source": [
    "- The memory required for processing was very high (512 MB, 1 GB) and we were getting error messages while combining the files and converting file format. So, we had to close all the other applications, including Slack, to run the code.\n",
    "- The notebook crashed multiple times and the system would hang after the crash. So, we restarted the machine every time we ran into error.\n",
    "- Running the overall notebook took too long and we waited for it to complete before submission. Since, the resource requirement was high, we could not do anything else on the machine during that time.\n",
    "- Merge conflicts were difficult to solve. So, we had to discuss on slack about the sequence of updates in the notebook."
   ]
  }
 ],
 "metadata": {
  "kernelspec": {
   "display_name": "Python [conda env:525_2022]",
   "language": "python",
   "name": "conda-env-525_2022-py"
  },
  "language_info": {
   "codemirror_mode": {
    "name": "ipython",
    "version": 3
   },
   "file_extension": ".py",
   "mimetype": "text/x-python",
   "name": "python",
   "nbconvert_exporter": "python",
   "pygments_lexer": "ipython3",
   "version": "3.8.6"
  }
 },
 "nbformat": 4,
 "nbformat_minor": 5
}
