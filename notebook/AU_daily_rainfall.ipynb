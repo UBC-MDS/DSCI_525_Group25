{
 "cells": [
  {
   "cell_type": "markdown",
   "id": "51caa525-070f-4bca-bd8e-9bcce5bb1675",
   "metadata": {},
   "source": [
    "## 1. Download And Extract"
   ]
  },
  {
   "cell_type": "code",
   "execution_count": 1,
   "id": "10e09c08-da5e-481a-a18a-88eea734cfb8",
   "metadata": {},
   "outputs": [],
   "source": [
    "import glob\n",
    "import json\n",
    "import os\n",
    "import re\n",
    "import zipfile\n",
    "from urllib.request import urlretrieve\n",
    "\n",
    "import pandas as pd\n",
    "import requests"
   ]
  },
  {
   "cell_type": "code",
   "execution_count": 2,
   "id": "951cf3c6-53c4-47bb-b94b-de42f709a033",
   "metadata": {},
   "outputs": [],
   "source": [
    "# Necessary metadata\n",
    "article_id = 14096681  # this is the unique identifier of the article on figshare\n",
    "url = f\"https://api.figshare.com/v2/articles/{article_id}\"\n",
    "headers = {\"Content-Type\": \"application/json\"}\n",
    "output_directory = \"../data/\""
   ]
  },
  {
   "cell_type": "code",
   "execution_count": 3,
   "id": "02acea01-49d7-43ab-81a6-013939f5094f",
   "metadata": {
    "tags": []
   },
   "outputs": [
    {
     "data": {
      "text/plain": [
       "[{'id': 26579150,\n",
       "  'name': 'daily_rainfall_2014.png',\n",
       "  'size': 58863,\n",
       "  'is_link_only': False,\n",
       "  'download_url': 'https://ndownloader.figshare.com/files/26579150',\n",
       "  'supplied_md5': 'fd32a2ffde300a31f8d63b1825d47e5e',\n",
       "  'computed_md5': 'fd32a2ffde300a31f8d63b1825d47e5e'},\n",
       " {'id': 26579171,\n",
       "  'name': 'environment.yml',\n",
       "  'size': 192,\n",
       "  'is_link_only': False,\n",
       "  'download_url': 'https://ndownloader.figshare.com/files/26579171',\n",
       "  'supplied_md5': '060b2020017eed93a1ee7dd8c65b2f34',\n",
       "  'computed_md5': '060b2020017eed93a1ee7dd8c65b2f34'},\n",
       " {'id': 26586554,\n",
       "  'name': 'README.md',\n",
       "  'size': 5422,\n",
       "  'is_link_only': False,\n",
       "  'download_url': 'https://ndownloader.figshare.com/files/26586554',\n",
       "  'supplied_md5': '61858c6cc0e6a6d6663a7e4c75bbd88c',\n",
       "  'computed_md5': '61858c6cc0e6a6d6663a7e4c75bbd88c'},\n",
       " {'id': 26766812,\n",
       "  'name': 'data.zip',\n",
       "  'size': 814041183,\n",
       "  'is_link_only': False,\n",
       "  'download_url': 'https://ndownloader.figshare.com/files/26766812',\n",
       "  'supplied_md5': 'b517383f76e77bd03755a63a8ff83ee9',\n",
       "  'computed_md5': 'b517383f76e77bd03755a63a8ff83ee9'},\n",
       " {'id': 26766815,\n",
       "  'name': 'get_data.py',\n",
       "  'size': 4113,\n",
       "  'is_link_only': False,\n",
       "  'download_url': 'https://ndownloader.figshare.com/files/26766815',\n",
       "  'supplied_md5': '7829028495fd9dec9680ea013474afa6',\n",
       "  'computed_md5': '7829028495fd9dec9680ea013474afa6'}]"
      ]
     },
     "execution_count": 3,
     "metadata": {},
     "output_type": "execute_result"
    }
   ],
   "source": [
    "# Get the files data\n",
    "response = requests.request(\"GET\", url, headers=headers)\n",
    "data = json.loads(response.text)\n",
    "files = data[\"files\"]\n",
    "files"
   ]
  },
  {
   "cell_type": "code",
   "execution_count": 5,
   "id": "8f2c115c-42c9-4d15-8006-70cdf082bdbb",
   "metadata": {},
   "outputs": [],
   "source": [
    "%%time\n",
    "# Downlaod the file\n",
    "files_to_dl = [\"data.zip\"]\n",
    "for file in files:\n",
    "    if file[\"name\"] in files_to_dl:\n",
    "        os.makedirs(output_directory, exist_ok=True)\n",
    "        urlretrieve(file[\"download_url\"], output_directory + file[\"name\"])"
   ]
  },
  {
   "cell_type": "markdown",
   "id": "bab3f2ab-1da1-436d-b484-b815ba39f788",
   "metadata": {},
   "source": [
    "| Team Member | Operating System | RAM | Processor | Is SSD | Time taken |\n",
    "|:-----------:|:----------------:|:---:|:---------:|:------:|:----------:|\n",
    "| Vanessa Yuen  | Windows 10 Pro | 16GB  | AMD Ryzen 7  |  Y      |  1min 13s |\n",
    "| Zheren Xu   | macOS Big Sur Version 11.6  |   16GB |  Apple M1 |Y|57.2s|\n",
    "| Member 3    |                  |     |           |        |            |\n",
    "| Member 4    |                  |     |           |        |            |"
   ]
  },
  {
   "cell_type": "code",
   "execution_count": 20,
   "id": "136a3739-01a5-4db9-a71d-c06f671990d4",
   "metadata": {},
   "outputs": [
    {
     "name": "stdout",
     "output_type": "stream",
     "text": [
      "CPU times: user 14.5 s, sys: 1.11 s, total: 15.6 s\n",
      "Wall time: 15.7 s\n"
     ]
    }
   ],
   "source": [
    "%%time\n",
    "# Extract the zip file\n",
    "with zipfile.ZipFile(os.path.join(output_directory, \"data.zip\"), \"r\") as f:\n",
    "    f.extractall(output_directory)"
   ]
  },
  {
   "cell_type": "markdown",
   "id": "7ea8f665-5993-4824-a0cd-5993000d4a98",
   "metadata": {},
   "source": [
    "| Team Member | Operating System | RAM | Processor | Is SSD | Time taken |\n",
    "|:-----------:|:----------------:|:---:|:---------:|:------:|:----------:|\n",
    "| Vanessa Yuen  | Windows 10 Pro | 16GB  | AMD Ryzen 7  |  Y      | 23.5 s |\n",
    "| Zheren Xu   | macOS Big Sur Version 11.6  |   16GB |  Apple M1 |Y|15.9 s|\n",
    "| Member 3    |                  |     |           |        |            |\n",
    "| Member 4    |                  |     |           |        |            |"
   ]
  },
  {
   "cell_type": "markdown",
   "id": "1948b38d-f500-4772-9b21-5fa75973afc5",
   "metadata": {},
   "source": [
    "## 2. Combining data CSVs"
   ]
  },
  {
   "cell_type": "code",
   "execution_count": 21,
   "id": "15348df8-09d0-4cda-976e-25c2364683a3",
   "metadata": {},
   "outputs": [],
   "source": [
    "%%time\n",
    "# Combine the CSV\n",
    "# Remember to remove 'observed_daily_rainfall_SYD.csv' before running this cell\n",
    "use_cols = [\n",
    "    \"time\",\n",
    "    \"lat_min\",\n",
    "    \"lat_max\",\n",
    "    \"lon_min\",\n",
    "    \"lon_max\",\n",
    "    \"rain (mm/day)\",\n",
    "]\n",
    "\n",
    "files = glob.glob(\"../data/*.csv\")\n",
    "\n",
    "df = pd.concat(\n",
    "    (\n",
    "        pd.read_csv(file, index_col=0, usecols=use_cols).assign(\n",
    "            model=re.findall(r\"[^\\\\]+(?=\\_daily_rainfall)\", file)[0]\n",
    "        )\n",
    "        for file in files\n",
    "    )\n",
    ")\n",
    "df.to_csv(\"../data/combined_data.csv\")"
   ]
  },
  {
   "cell_type": "markdown",
   "id": "29f73e1c-1575-45fb-818c-28d9f864db8c",
   "metadata": {},
   "source": [
    "| Team Member | Operating System | RAM | Processor | Is SSD | Time taken |\n",
    "|:-----------:|:----------------:|:---:|:---------:|:------:|:----------:|\n",
    "| Vanessa Yuen  | Windows 10 Pro | 16GB  | AMD Ryzen 7  |  Y      |   7min 17s |\n",
    "| Zheren Xu   | macOS Big Sur  |   16GB |  Apple M1 |Y|6min 14s|\n",
    "| Member 3    |                  |     |           |        |            |\n",
    "| Member 4    |                  |     |           |        |            |"
   ]
  },
  {
   "cell_type": "markdown",
   "id": "135e9bdc-dd1e-4ff5-a527-520224693c0b",
   "metadata": {},
   "source": [
    "### **Add observations here**"
   ]
  },
  {
   "cell_type": "markdown",
   "id": "06ea4037-61ce-499a-a2be-431c7e807599",
   "metadata": {},
   "source": [
    "## 3. Simple EDA\n",
    "\n",
    "### 3.1 Sanity Check"
   ]
  },
  {
   "cell_type": "code",
   "execution_count": 18,
   "id": "bced0c40-b665-436c-a90a-9ad7808d262f",
   "metadata": {},
   "outputs": [
    {
     "name": "stdout",
     "output_type": "stream",
     "text": [
      "(62467843, 4)\n",
      "     lat_min   lon_min  rain (mm/day)                    model\n",
      "0 -35.439867  141.5625   4.244226e-13  ../data/MPI-ESM-1-2-HAM\n",
      "1 -35.439867  141.5625   4.217326e-13  ../data/MPI-ESM-1-2-HAM\n",
      "2 -35.439867  141.5625   4.498125e-13  ../data/MPI-ESM-1-2-HAM\n",
      "3 -35.439867  141.5625   4.251282e-13  ../data/MPI-ESM-1-2-HAM\n",
      "4 -35.439867  141.5625   4.270161e-13  ../data/MPI-ESM-1-2-HAM\n"
     ]
    }
   ],
   "source": [
    "print(df.shape)\n",
    "print(df.head())"
   ]
  },
  {
   "cell_type": "code",
   "execution_count": 9,
   "id": "a815cf2d-11b4-4f01-bb93-206f4c7d06ce",
   "metadata": {},
   "outputs": [
    {
     "name": "stdout",
     "output_type": "stream",
     "text": [
      "<class 'pandas.core.frame.DataFrame'>\n",
      "Index: 62467843 entries, 1889-01-01 12:00:00 to 2014-12-31 12:00:00\n",
      "Data columns (total 6 columns):\n",
      " #   Column         Dtype  \n",
      "---  ------         -----  \n",
      " 0   lat_min        float64\n",
      " 1   lat_max        float64\n",
      " 2   lon_min        float64\n",
      " 3   lon_max        float64\n",
      " 4   rain (mm/day)  float64\n",
      " 5   model          object \n",
      "dtypes: float64(5), object(1)\n",
      "memory usage: 3.3+ GB\n"
     ]
    }
   ],
   "source": [
    "df.info()"
   ]
  },
  {
   "cell_type": "markdown",
   "id": "44930808-548c-4b7c-a491-4caecccf2924",
   "metadata": {},
   "source": [
    "### 3.2 Load just columns what we want\n",
    "\n",
    "#### Load all columns"
   ]
  },
  {
   "cell_type": "code",
   "execution_count": 14,
   "id": "98546c88-1277-4e64-8b85-47064ef5fba6",
   "metadata": {},
   "outputs": [
    {
     "name": "stdout",
     "output_type": "stream",
     "text": [
      "../data/MPI-ESM1-2-HR       5154240\n",
      "../data/CMCC-CM2-HR4        3541230\n",
      "../data/CMCC-ESM2           3541230\n",
      "../data/CMCC-CM2-SR5        3541230\n",
      "../data/NorESM2-MM          3541230\n",
      "../data/TaiESM1             3541230\n",
      "../data/SAM0-UNICON         3541153\n",
      "../data/GFDL-ESM4           3219300\n",
      "../data/FGOALS-f3-L         3219300\n",
      "../data/GFDL-CM4            3219300\n",
      "../data/MRI-ESM2-0          3037320\n",
      "../data/EC-Earth3-Veg-LR    3037320\n",
      "../data/BCC-CSM2-MR         3035340\n",
      "../data/MIROC6              2070900\n",
      "../data/ACCESS-CM2          1932840\n",
      "../data/ACCESS-ESM1-5       1610700\n",
      "../data/INM-CM4-8           1609650\n",
      "../data/INM-CM5-0           1609650\n",
      "../data/FGOALS-g3           1287720\n",
      "../data/KIOST-ESM           1287720\n",
      "../data/AWI-ESM-1-1-LR       966420\n",
      "../data/MPI-ESM1-2-LR        966420\n",
      "../data/NESM3                966420\n",
      "../data/MPI-ESM-1-2-HAM      966420\n",
      "../data/NorESM2-LM           919800\n",
      "../data/BCC-ESM1             551880\n",
      "../data/CanESM5              551880\n",
      "Name: model, dtype: int64\n",
      "CPU times: user 48.3 s, sys: 9.52 s, total: 57.8 s\n",
      "Wall time: 1min 3s\n"
     ]
    }
   ],
   "source": [
    "%%time\n",
    "df_all_col = pd.read_csv(\"../data/combined_data.csv\")\n",
    "print(df_all_col[\"model\"].value_counts())"
   ]
  },
  {
   "cell_type": "markdown",
   "id": "dc124270-2da1-4469-9bb3-10b97ebd1ff1",
   "metadata": {},
   "source": [
    "#### Load just what is needed"
   ]
  },
  {
   "cell_type": "code",
   "execution_count": 15,
   "id": "7a32a843-19df-45b1-aa80-c90cb49c6027",
   "metadata": {},
   "outputs": [
    {
     "name": "stdout",
     "output_type": "stream",
     "text": [
      "../data/MPI-ESM1-2-HR       5154240\n",
      "../data/CMCC-CM2-HR4        3541230\n",
      "../data/CMCC-ESM2           3541230\n",
      "../data/CMCC-CM2-SR5        3541230\n",
      "../data/NorESM2-MM          3541230\n",
      "../data/TaiESM1             3541230\n",
      "../data/SAM0-UNICON         3541153\n",
      "../data/GFDL-ESM4           3219300\n",
      "../data/FGOALS-f3-L         3219300\n",
      "../data/GFDL-CM4            3219300\n",
      "../data/MRI-ESM2-0          3037320\n",
      "../data/EC-Earth3-Veg-LR    3037320\n",
      "../data/BCC-CSM2-MR         3035340\n",
      "../data/MIROC6              2070900\n",
      "../data/ACCESS-CM2          1932840\n",
      "../data/ACCESS-ESM1-5       1610700\n",
      "../data/INM-CM4-8           1609650\n",
      "../data/INM-CM5-0           1609650\n",
      "../data/FGOALS-g3           1287720\n",
      "../data/KIOST-ESM           1287720\n",
      "../data/AWI-ESM-1-1-LR       966420\n",
      "../data/MPI-ESM1-2-LR        966420\n",
      "../data/NESM3                966420\n",
      "../data/MPI-ESM-1-2-HAM      966420\n",
      "../data/NorESM2-LM           919800\n",
      "../data/BCC-ESM1             551880\n",
      "../data/CanESM5              551880\n",
      "Name: model, dtype: int64\n",
      "CPU times: user 35.4 s, sys: 4.26 s, total: 39.6 s\n",
      "Wall time: 41.2 s\n"
     ]
    }
   ],
   "source": [
    "%%time\n",
    "use_cols = ['lat_min','lon_min','rain (mm/day)','model']\n",
    "df = pd.read_csv(\"../data/combined_data.csv\",usecols=use_cols)\n",
    "print(df[\"model\"].value_counts())"
   ]
  },
  {
   "cell_type": "markdown",
   "id": "e59e7325-c9d3-4b48-bc96-7242d4c681c4",
   "metadata": {},
   "source": [
    "#### Compare"
   ]
  },
  {
   "cell_type": "markdown",
   "id": "d649b23c-f82d-4eb8-a75c-2045d56fcce1",
   "metadata": {},
   "source": [
    "| Team Member | Operating System | RAM | Processor | Is SSD | Load All Cols| Load what is needed |\n",
    "|:-----------:|:----------------:|:---:|:---------:|:------:|:----------:|:----------:|\n",
    "| Vanessa Yuen  | Windows 10 Pro | 16GB  | AMD Ryzen 7  |  Y      |   ||\n",
    "| Zheren Xu   | macOS Big Sur |   16GB |  Apple M1 |Y|57.8s|41.2s|\n",
    "| Member 3    |                  |     |           |        |            ||\n",
    "| Member 4    |                  |     |           |        |            ||"
   ]
  },
  {
   "cell_type": "markdown",
   "id": "39f886eb-de41-453f-8723-8f6e7d142f9b",
   "metadata": {},
   "source": [
    "### **Add observations here**"
   ]
  },
  {
   "cell_type": "markdown",
   "id": "92f05acc-72ff-4df5-bee9-8da1cde876fc",
   "metadata": {},
   "source": [
    "## 4. Simple EDA in R"
   ]
  },
  {
   "cell_type": "code",
   "execution_count": 18,
   "id": "7bd604c0-7241-4efb-9a6f-365b303d65df",
   "metadata": {},
   "outputs": [
    {
     "name": "stderr",
     "output_type": "stream",
     "text": [
      "C:\\Users\\imtvw\\miniconda3\\envs\\525_2022\\lib\\site-packages\\rpy2\\robjects\\packages.py:366: UserWarning: The symbol 'quartz' is not in this R namespace/package.\n",
      "  warnings.warn(\n"
     ]
    }
   ],
   "source": [
    "%load_ext rpy2.ipython"
   ]
  },
  {
   "cell_type": "code",
   "execution_count": 19,
   "id": "fcc3a625-43a1-45bb-882f-4d3d5bab0339",
   "metadata": {},
   "outputs": [
    {
     "name": "stderr",
     "output_type": "stream",
     "text": [
      "UsageError: %%R is a cell magic, but the cell body is empty. Did you mean the line magic %R (single %)?\n"
     ]
    }
   ],
   "source": [
    "%%R"
   ]
  },
  {
   "cell_type": "code",
   "execution_count": null,
   "id": "25b9296b-db76-4366-85b0-78b3d510bde5",
   "metadata": {},
   "outputs": [],
   "source": []
  }
 ],
 "metadata": {
  "kernelspec": {
   "display_name": "Python [conda env:525_2022]",
   "language": "python",
   "name": "conda-env-525_2022-py"
  },
  "language_info": {
   "codemirror_mode": {
    "name": "ipython",
    "version": 3
   },
   "file_extension": ".py",
   "mimetype": "text/x-python",
   "name": "python",
   "nbconvert_exporter": "python",
   "pygments_lexer": "ipython3",
   "version": "3.8.6"
  }
 },
 "nbformat": 4,
 "nbformat_minor": 5
}
