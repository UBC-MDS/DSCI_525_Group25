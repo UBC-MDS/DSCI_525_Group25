{
 "cells": [
  {
   "cell_type": "markdown",
   "metadata": {},
   "source": [
    "# Task 3"
   ]
  },
  {
   "cell_type": "markdown",
   "metadata": {},
   "source": [
    "# Imports"
   ]
  },
  {
   "cell_type": "code",
   "execution_count": 1,
   "metadata": {},
   "outputs": [],
   "source": [
    "import matplotlib.pyplot as plt\n",
    "import numpy as np\n",
    "import pandas as pd\n",
    "from joblib import dump, load\n",
    "from sklearn.ensemble import RandomForestRegressor\n",
    "from sklearn.metrics import mean_squared_error\n",
    "from sklearn.model_selection import train_test_split\n",
    "\n",
    "plt.style.use(\"ggplot\")\n",
    "plt.rcParams.update(\n",
    "    {\"font.size\": 16, \"axes.labelweight\": \"bold\", \"figure.figsize\": (8, 6)}\n",
    ")\n",
    "## add any other additional packages that you need. You are free to use any packages for vizualization."
   ]
  },
  {
   "cell_type": "markdown",
   "metadata": {},
   "source": [
    "## Part 1:"
   ]
  },
  {
   "cell_type": "markdown",
   "metadata": {},
   "source": [
    "Recall as a final goal of this project. We want to build and deploy ensemble machine learning models in the cloud, where features are outputs of different climate models and the target is the actual rainfall observation. In this milestone, you'll actually build these ensemble machine learning models in the cloud.  \n",
    "\n",
    "**Your tasks:**\n",
    "\n",
    "1. Read the data CSV from your s3 bucket. \n",
    "2. Drop rows with nans. \n",
    "3. Split the data into train (80%) and test (20%) portions with `random_state=123`. \n",
    "4. Carry out EDA of your choice on the train split. \n",
    "5. Train ensemble machine learning model using `RandomForestRegressor` and evaluate with metric of your choice (e.g., `RMSE`) by considering `Observed` as the target column. \n",
    "6. Discuss your results. Are you getting better results with ensemble models compared to the individual climate models? \n",
    "\n",
    "> Recall that individual columns in the data are predictions of different climate models. "
   ]
  },
  {
   "cell_type": "code",
   "execution_count": 2,
   "metadata": {},
   "outputs": [],
   "source": [
    "## Depending on the permissions that you provided to your bucket you might need to provide your aws credentials\n",
    "## to read from the bucket, if so provide with your credentials and pass as storage_options=aws_credentials\n",
    "# aws_credentials = {\"key\": \"\",\"secret\": \"\",\"token\":\"\"}\n",
    "df = pd.read_csv(\"s3://mds-s3-25/output/ml_data_SYD.csv\", index_col=0, parse_dates=True)"
   ]
  },
  {
   "cell_type": "code",
   "execution_count": 3,
   "metadata": {},
   "outputs": [
    {
     "name": "stdout",
     "output_type": "stream",
     "text": [
      "<class 'pandas.core.frame.DataFrame'>\n",
      "DatetimeIndex: 46020 entries, 1889-01-01 to 2014-12-31\n",
      "Data columns (total 26 columns):\n",
      " #   Column                     Non-Null Count  Dtype  \n",
      "---  ------                     --------------  -----  \n",
      " 0   ACCESS-CM2_rainfall        46020 non-null  float64\n",
      " 1   ACCESS-ESM1-5_rainfall     46020 non-null  float64\n",
      " 2   AWI-ESM-1-1-LR_rainfall    46020 non-null  float64\n",
      " 3   BCC-CSM2-MR_rainfall       45990 non-null  float64\n",
      " 4   BCC-ESM1_rainfall          45990 non-null  float64\n",
      " 5   CMCC-CM2-HR4_rainfall      45990 non-null  float64\n",
      " 6   CMCC-CM2-SR5_rainfall      45990 non-null  float64\n",
      " 7   CMCC-ESM2_rainfall         45990 non-null  float64\n",
      " 8   CanESM5_rainfall           45990 non-null  float64\n",
      " 9   EC-Earth3-Veg-LR_rainfall  46020 non-null  float64\n",
      " 10  FGOALS-g3_rainfall         45990 non-null  float64\n",
      " 11  GFDL-CM4_rainfall          45990 non-null  float64\n",
      " 12  INM-CM4-8_rainfall         45990 non-null  float64\n",
      " 13  INM-CM5-0_rainfall         45990 non-null  float64\n",
      " 14  KIOST-ESM_rainfall         45990 non-null  float64\n",
      " 15  MIROC6_rainfall            46020 non-null  float64\n",
      " 16  MPI-ESM-1-2-HAM_rainfall   46020 non-null  float64\n",
      " 17  MPI-ESM1-2-HR_rainfall     46020 non-null  float64\n",
      " 18  MPI-ESM1-2-LR_rainfall     46020 non-null  float64\n",
      " 19  MRI-ESM2-0_rainfall        46020 non-null  float64\n",
      " 20  NESM3_rainfall             46020 non-null  float64\n",
      " 21  NorESM2-LM_rainfall        45990 non-null  float64\n",
      " 22  NorESM2-MM_rainfall        45990 non-null  float64\n",
      " 23  SAM0-UNICON_rainfall       45989 non-null  float64\n",
      " 24  TaiESM1_rainfall           45990 non-null  float64\n",
      " 25  observed_rainfall          46020 non-null  float64\n",
      "dtypes: float64(26)\n",
      "memory usage: 9.5 MB\n"
     ]
    }
   ],
   "source": [
    "df.info()"
   ]
  },
  {
   "cell_type": "code",
   "execution_count": 4,
   "metadata": {},
   "outputs": [
    {
     "name": "stdout",
     "output_type": "stream",
     "text": [
      "<class 'pandas.core.frame.DataFrame'>\n",
      "DatetimeIndex: 45989 entries, 1889-01-01 to 2014-12-31\n",
      "Data columns (total 26 columns):\n",
      " #   Column                     Non-Null Count  Dtype  \n",
      "---  ------                     --------------  -----  \n",
      " 0   ACCESS-CM2_rainfall        45989 non-null  float64\n",
      " 1   ACCESS-ESM1-5_rainfall     45989 non-null  float64\n",
      " 2   AWI-ESM-1-1-LR_rainfall    45989 non-null  float64\n",
      " 3   BCC-CSM2-MR_rainfall       45989 non-null  float64\n",
      " 4   BCC-ESM1_rainfall          45989 non-null  float64\n",
      " 5   CMCC-CM2-HR4_rainfall      45989 non-null  float64\n",
      " 6   CMCC-CM2-SR5_rainfall      45989 non-null  float64\n",
      " 7   CMCC-ESM2_rainfall         45989 non-null  float64\n",
      " 8   CanESM5_rainfall           45989 non-null  float64\n",
      " 9   EC-Earth3-Veg-LR_rainfall  45989 non-null  float64\n",
      " 10  FGOALS-g3_rainfall         45989 non-null  float64\n",
      " 11  GFDL-CM4_rainfall          45989 non-null  float64\n",
      " 12  INM-CM4-8_rainfall         45989 non-null  float64\n",
      " 13  INM-CM5-0_rainfall         45989 non-null  float64\n",
      " 14  KIOST-ESM_rainfall         45989 non-null  float64\n",
      " 15  MIROC6_rainfall            45989 non-null  float64\n",
      " 16  MPI-ESM-1-2-HAM_rainfall   45989 non-null  float64\n",
      " 17  MPI-ESM1-2-HR_rainfall     45989 non-null  float64\n",
      " 18  MPI-ESM1-2-LR_rainfall     45989 non-null  float64\n",
      " 19  MRI-ESM2-0_rainfall        45989 non-null  float64\n",
      " 20  NESM3_rainfall             45989 non-null  float64\n",
      " 21  NorESM2-LM_rainfall        45989 non-null  float64\n",
      " 22  NorESM2-MM_rainfall        45989 non-null  float64\n",
      " 23  SAM0-UNICON_rainfall       45989 non-null  float64\n",
      " 24  TaiESM1_rainfall           45989 non-null  float64\n",
      " 25  observed_rainfall          45989 non-null  float64\n",
      "dtypes: float64(26)\n",
      "memory usage: 9.5 MB\n"
     ]
    }
   ],
   "source": [
    "df.dropna(inplace=True)\n",
    "df.info()"
   ]
  },
  {
   "cell_type": "code",
   "execution_count": 5,
   "metadata": {},
   "outputs": [],
   "source": [
    "train_df, test_df = train_test_split(df, test_size=0.2, random_state=123)"
   ]
  },
  {
   "cell_type": "code",
   "execution_count": 6,
   "metadata": {},
   "outputs": [
    {
     "data": {
      "text/html": [
       "<div>\n",
       "<style scoped>\n",
       "    .dataframe tbody tr th:only-of-type {\n",
       "        vertical-align: middle;\n",
       "    }\n",
       "\n",
       "    .dataframe tbody tr th {\n",
       "        vertical-align: top;\n",
       "    }\n",
       "\n",
       "    .dataframe thead th {\n",
       "        text-align: right;\n",
       "    }\n",
       "</style>\n",
       "<table border=\"1\" class=\"dataframe\">\n",
       "  <thead>\n",
       "    <tr style=\"text-align: right;\">\n",
       "      <th></th>\n",
       "      <th>ACCESS-CM2_rainfall</th>\n",
       "      <th>ACCESS-ESM1-5_rainfall</th>\n",
       "      <th>AWI-ESM-1-1-LR_rainfall</th>\n",
       "      <th>BCC-CSM2-MR_rainfall</th>\n",
       "      <th>BCC-ESM1_rainfall</th>\n",
       "      <th>CMCC-CM2-HR4_rainfall</th>\n",
       "      <th>CMCC-CM2-SR5_rainfall</th>\n",
       "      <th>CMCC-ESM2_rainfall</th>\n",
       "      <th>CanESM5_rainfall</th>\n",
       "      <th>EC-Earth3-Veg-LR_rainfall</th>\n",
       "      <th>...</th>\n",
       "      <th>MPI-ESM-1-2-HAM_rainfall</th>\n",
       "      <th>MPI-ESM1-2-HR_rainfall</th>\n",
       "      <th>MPI-ESM1-2-LR_rainfall</th>\n",
       "      <th>MRI-ESM2-0_rainfall</th>\n",
       "      <th>NESM3_rainfall</th>\n",
       "      <th>NorESM2-LM_rainfall</th>\n",
       "      <th>NorESM2-MM_rainfall</th>\n",
       "      <th>SAM0-UNICON_rainfall</th>\n",
       "      <th>TaiESM1_rainfall</th>\n",
       "      <th>observed_rainfall</th>\n",
       "    </tr>\n",
       "  </thead>\n",
       "  <tbody>\n",
       "    <tr>\n",
       "      <th>count</th>\n",
       "      <td>36791.000000</td>\n",
       "      <td>36791.000000</td>\n",
       "      <td>3.679100e+04</td>\n",
       "      <td>3.679100e+04</td>\n",
       "      <td>3.679100e+04</td>\n",
       "      <td>36791.000000</td>\n",
       "      <td>3.679100e+04</td>\n",
       "      <td>3.679100e+04</td>\n",
       "      <td>36791.000000</td>\n",
       "      <td>3.679100e+04</td>\n",
       "      <td>...</td>\n",
       "      <td>3.679100e+04</td>\n",
       "      <td>3.679100e+04</td>\n",
       "      <td>3.679100e+04</td>\n",
       "      <td>3.679100e+04</td>\n",
       "      <td>3.679100e+04</td>\n",
       "      <td>36791.000000</td>\n",
       "      <td>36791.000000</td>\n",
       "      <td>3.679100e+04</td>\n",
       "      <td>3.679100e+04</td>\n",
       "      <td>36791.000000</td>\n",
       "    </tr>\n",
       "    <tr>\n",
       "      <th>mean</th>\n",
       "      <td>2.429419</td>\n",
       "      <td>2.938955</td>\n",
       "      <td>3.716329e+00</td>\n",
       "      <td>2.203086e+00</td>\n",
       "      <td>2.748441e+00</td>\n",
       "      <td>3.092784</td>\n",
       "      <td>3.575203e+00</td>\n",
       "      <td>3.489756e+00</td>\n",
       "      <td>2.879339</td>\n",
       "      <td>2.565430e+00</td>\n",
       "      <td>...</td>\n",
       "      <td>3.213535e+00</td>\n",
       "      <td>1.299377e+00</td>\n",
       "      <td>2.041242e+00</td>\n",
       "      <td>1.533212e+00</td>\n",
       "      <td>1.726792e+00</td>\n",
       "      <td>2.458268</td>\n",
       "      <td>2.890478</td>\n",
       "      <td>3.383557e+00</td>\n",
       "      <td>3.417809e+00</td>\n",
       "      <td>2.726320</td>\n",
       "    </tr>\n",
       "    <tr>\n",
       "      <th>std</th>\n",
       "      <td>6.791374</td>\n",
       "      <td>7.048794</td>\n",
       "      <td>7.280859e+00</td>\n",
       "      <td>6.518224e+00</td>\n",
       "      <td>5.997439e+00</td>\n",
       "      <td>6.459254</td>\n",
       "      <td>7.353451e+00</td>\n",
       "      <td>7.039201e+00</td>\n",
       "      <td>6.898890</td>\n",
       "      <td>5.732742e+00</td>\n",
       "      <td>...</td>\n",
       "      <td>6.979341e+00</td>\n",
       "      <td>4.890737e+00</td>\n",
       "      <td>5.347782e+00</td>\n",
       "      <td>5.000287e+00</td>\n",
       "      <td>4.872754e+00</td>\n",
       "      <td>5.815333</td>\n",
       "      <td>7.129072</td>\n",
       "      <td>7.927354e+00</td>\n",
       "      <td>7.558577e+00</td>\n",
       "      <td>8.078310</td>\n",
       "    </tr>\n",
       "    <tr>\n",
       "      <th>min</th>\n",
       "      <td>0.000000</td>\n",
       "      <td>0.000000</td>\n",
       "      <td>9.161142e-14</td>\n",
       "      <td>4.211430e-24</td>\n",
       "      <td>1.091904e-24</td>\n",
       "      <td>0.000000</td>\n",
       "      <td>-4.503054e-17</td>\n",
       "      <td>-3.186177e-19</td>\n",
       "      <td>0.000000</td>\n",
       "      <td>-9.934637e-19</td>\n",
       "      <td>...</td>\n",
       "      <td>3.315622e-13</td>\n",
       "      <td>1.088608e-13</td>\n",
       "      <td>9.155419e-14</td>\n",
       "      <td>9.479186e-33</td>\n",
       "      <td>1.435053e-13</td>\n",
       "      <td>0.000000</td>\n",
       "      <td>0.000000</td>\n",
       "      <td>-3.604673e-17</td>\n",
       "      <td>-2.148475e-14</td>\n",
       "      <td>0.000000</td>\n",
       "    </tr>\n",
       "    <tr>\n",
       "      <th>25%</th>\n",
       "      <td>0.054108</td>\n",
       "      <td>0.021248</td>\n",
       "      <td>2.961787e-02</td>\n",
       "      <td>5.089918e-04</td>\n",
       "      <td>2.381995e-03</td>\n",
       "      <td>0.138315</td>\n",
       "      <td>8.899328e-02</td>\n",
       "      <td>9.271159e-02</td>\n",
       "      <td>0.022493</td>\n",
       "      <td>1.201630e-02</td>\n",
       "      <td>...</td>\n",
       "      <td>1.169275e-04</td>\n",
       "      <td>1.270013e-13</td>\n",
       "      <td>1.358104e-13</td>\n",
       "      <td>5.380599e-05</td>\n",
       "      <td>1.866808e-13</td>\n",
       "      <td>0.005478</td>\n",
       "      <td>0.010013</td>\n",
       "      <td>3.651962e-02</td>\n",
       "      <td>4.934874e-02</td>\n",
       "      <td>0.008084</td>\n",
       "    </tr>\n",
       "    <tr>\n",
       "      <th>50%</th>\n",
       "      <td>0.192980</td>\n",
       "      <td>0.492758</td>\n",
       "      <td>5.923147e-01</td>\n",
       "      <td>9.644146e-02</td>\n",
       "      <td>2.986511e-01</td>\n",
       "      <td>0.633548</td>\n",
       "      <td>8.278889e-01</td>\n",
       "      <td>8.486242e-01</td>\n",
       "      <td>0.337613</td>\n",
       "      <td>4.296779e-01</td>\n",
       "      <td>...</td>\n",
       "      <td>2.081838e-01</td>\n",
       "      <td>1.579151e-03</td>\n",
       "      <td>1.140358e-01</td>\n",
       "      <td>3.185565e-02</td>\n",
       "      <td>4.989652e-02</td>\n",
       "      <td>0.169617</td>\n",
       "      <td>0.255937</td>\n",
       "      <td>6.539921e-01</td>\n",
       "      <td>6.675421e-01</td>\n",
       "      <td>0.163215</td>\n",
       "    </tr>\n",
       "    <tr>\n",
       "      <th>75%</th>\n",
       "      <td>1.445456</td>\n",
       "      <td>2.398539</td>\n",
       "      <td>3.601697e+00</td>\n",
       "      <td>1.318940e+00</td>\n",
       "      <td>2.477893e+00</td>\n",
       "      <td>3.182630</td>\n",
       "      <td>3.727703e+00</td>\n",
       "      <td>3.629963e+00</td>\n",
       "      <td>2.558854</td>\n",
       "      <td>2.295852e+00</td>\n",
       "      <td>...</td>\n",
       "      <td>2.699071e+00</td>\n",
       "      <td>3.465456e-01</td>\n",
       "      <td>1.192421e+00</td>\n",
       "      <td>6.732646e-01</td>\n",
       "      <td>7.874740e-01</td>\n",
       "      <td>1.822582</td>\n",
       "      <td>2.450690</td>\n",
       "      <td>3.275132e+00</td>\n",
       "      <td>3.234430e+00</td>\n",
       "      <td>1.612815</td>\n",
       "    </tr>\n",
       "    <tr>\n",
       "      <th>max</th>\n",
       "      <td>149.967634</td>\n",
       "      <td>157.605713</td>\n",
       "      <td>8.946575e+01</td>\n",
       "      <td>1.344652e+02</td>\n",
       "      <td>8.713472e+01</td>\n",
       "      <td>124.952390</td>\n",
       "      <td>1.401478e+02</td>\n",
       "      <td>1.375916e+02</td>\n",
       "      <td>135.569753</td>\n",
       "      <td>9.642382e+01</td>\n",
       "      <td>...</td>\n",
       "      <td>9.306766e+01</td>\n",
       "      <td>1.095008e+02</td>\n",
       "      <td>7.484368e+01</td>\n",
       "      <td>1.016900e+02</td>\n",
       "      <td>8.045783e+01</td>\n",
       "      <td>114.898109</td>\n",
       "      <td>163.164524</td>\n",
       "      <td>1.549718e+02</td>\n",
       "      <td>1.673562e+02</td>\n",
       "      <td>192.933030</td>\n",
       "    </tr>\n",
       "  </tbody>\n",
       "</table>\n",
       "<p>8 rows × 26 columns</p>\n",
       "</div>"
      ],
      "text/plain": [
       "       ACCESS-CM2_rainfall  ACCESS-ESM1-5_rainfall  AWI-ESM-1-1-LR_rainfall  \\\n",
       "count         36791.000000            36791.000000             3.679100e+04   \n",
       "mean              2.429419                2.938955             3.716329e+00   \n",
       "std               6.791374                7.048794             7.280859e+00   \n",
       "min               0.000000                0.000000             9.161142e-14   \n",
       "25%               0.054108                0.021248             2.961787e-02   \n",
       "50%               0.192980                0.492758             5.923147e-01   \n",
       "75%               1.445456                2.398539             3.601697e+00   \n",
       "max             149.967634              157.605713             8.946575e+01   \n",
       "\n",
       "       BCC-CSM2-MR_rainfall  BCC-ESM1_rainfall  CMCC-CM2-HR4_rainfall  \\\n",
       "count          3.679100e+04       3.679100e+04           36791.000000   \n",
       "mean           2.203086e+00       2.748441e+00               3.092784   \n",
       "std            6.518224e+00       5.997439e+00               6.459254   \n",
       "min            4.211430e-24       1.091904e-24               0.000000   \n",
       "25%            5.089918e-04       2.381995e-03               0.138315   \n",
       "50%            9.644146e-02       2.986511e-01               0.633548   \n",
       "75%            1.318940e+00       2.477893e+00               3.182630   \n",
       "max            1.344652e+02       8.713472e+01             124.952390   \n",
       "\n",
       "       CMCC-CM2-SR5_rainfall  CMCC-ESM2_rainfall  CanESM5_rainfall  \\\n",
       "count           3.679100e+04        3.679100e+04      36791.000000   \n",
       "mean            3.575203e+00        3.489756e+00          2.879339   \n",
       "std             7.353451e+00        7.039201e+00          6.898890   \n",
       "min            -4.503054e-17       -3.186177e-19          0.000000   \n",
       "25%             8.899328e-02        9.271159e-02          0.022493   \n",
       "50%             8.278889e-01        8.486242e-01          0.337613   \n",
       "75%             3.727703e+00        3.629963e+00          2.558854   \n",
       "max             1.401478e+02        1.375916e+02        135.569753   \n",
       "\n",
       "       EC-Earth3-Veg-LR_rainfall  ...  MPI-ESM-1-2-HAM_rainfall  \\\n",
       "count               3.679100e+04  ...              3.679100e+04   \n",
       "mean                2.565430e+00  ...              3.213535e+00   \n",
       "std                 5.732742e+00  ...              6.979341e+00   \n",
       "min                -9.934637e-19  ...              3.315622e-13   \n",
       "25%                 1.201630e-02  ...              1.169275e-04   \n",
       "50%                 4.296779e-01  ...              2.081838e-01   \n",
       "75%                 2.295852e+00  ...              2.699071e+00   \n",
       "max                 9.642382e+01  ...              9.306766e+01   \n",
       "\n",
       "       MPI-ESM1-2-HR_rainfall  MPI-ESM1-2-LR_rainfall  MRI-ESM2-0_rainfall  \\\n",
       "count            3.679100e+04            3.679100e+04         3.679100e+04   \n",
       "mean             1.299377e+00            2.041242e+00         1.533212e+00   \n",
       "std              4.890737e+00            5.347782e+00         5.000287e+00   \n",
       "min              1.088608e-13            9.155419e-14         9.479186e-33   \n",
       "25%              1.270013e-13            1.358104e-13         5.380599e-05   \n",
       "50%              1.579151e-03            1.140358e-01         3.185565e-02   \n",
       "75%              3.465456e-01            1.192421e+00         6.732646e-01   \n",
       "max              1.095008e+02            7.484368e+01         1.016900e+02   \n",
       "\n",
       "       NESM3_rainfall  NorESM2-LM_rainfall  NorESM2-MM_rainfall  \\\n",
       "count    3.679100e+04         36791.000000         36791.000000   \n",
       "mean     1.726792e+00             2.458268             2.890478   \n",
       "std      4.872754e+00             5.815333             7.129072   \n",
       "min      1.435053e-13             0.000000             0.000000   \n",
       "25%      1.866808e-13             0.005478             0.010013   \n",
       "50%      4.989652e-02             0.169617             0.255937   \n",
       "75%      7.874740e-01             1.822582             2.450690   \n",
       "max      8.045783e+01           114.898109           163.164524   \n",
       "\n",
       "       SAM0-UNICON_rainfall  TaiESM1_rainfall  observed_rainfall  \n",
       "count          3.679100e+04      3.679100e+04       36791.000000  \n",
       "mean           3.383557e+00      3.417809e+00           2.726320  \n",
       "std            7.927354e+00      7.558577e+00           8.078310  \n",
       "min           -3.604673e-17     -2.148475e-14           0.000000  \n",
       "25%            3.651962e-02      4.934874e-02           0.008084  \n",
       "50%            6.539921e-01      6.675421e-01           0.163215  \n",
       "75%            3.275132e+00      3.234430e+00           1.612815  \n",
       "max            1.549718e+02      1.673562e+02         192.933030  \n",
       "\n",
       "[8 rows x 26 columns]"
      ]
     },
     "execution_count": 6,
     "metadata": {},
     "output_type": "execute_result"
    }
   ],
   "source": [
    "# EDA\n",
    "train_df.describe(include=\"all\")"
   ]
  },
  {
   "cell_type": "code",
   "execution_count": 18,
   "metadata": {},
   "outputs": [
    {
     "data": {
      "image/png": "[encoded data removed]",
      "text/plain": [
       "<Figure size 864x648 with 1 Axes>"
      ]
     },
     "metadata": {},
     "output_type": "display_data"
    }
   ],
   "source": [
    "# EDA\n",
    "X_train_mean = train_df.mean(axis=0)\n",
    "X_train_mean.plot(figsize=(12, 9), title=\"Mean Rainfall from Different Models\");"
   ]
  },
  {
   "cell_type": "code",
   "execution_count": 7,
   "metadata": {},
   "outputs": [
    {
     "data": {
      "text/plain": [
       "RandomForestRegressor(random_state=25)"
      ]
     },
     "execution_count": 7,
     "metadata": {},
     "output_type": "execute_result"
    }
   ],
   "source": [
    "X_train = train_df.drop(columns=[\"observed_rainfall\"])\n",
    "y_train = train_df[\"observed_rainfall\"]\n",
    "X_test = test_df.drop(columns=[\"observed_rainfall\"])\n",
    "y_test = test_df[\"observed_rainfall\"]\n",
    "\n",
    "# fit training set\n",
    "rf_model = RandomForestRegressor(random_state=25)\n",
    "rf_model.fit(X_train, y_train)"
   ]
  },
  {
   "cell_type": "code",
   "execution_count": 8,
   "metadata": {},
   "outputs": [
    {
     "name": "stdout",
     "output_type": "stream",
     "text": [
      "[6.62468336 3.16090269 2.69780884 ... 7.40938701 8.94425498 5.37357003]\n"
     ]
    }
   ],
   "source": [
    "# predict on test set\n",
    "y_predict = rf_model.predict(X_test)\n",
    "print(y_predict)"
   ]
  },
  {
   "cell_type": "code",
   "execution_count": 9,
   "metadata": {},
   "outputs": [
    {
     "data": {
      "text/plain": [
       "8.839062084107871"
      ]
     },
     "execution_count": 9,
     "metadata": {},
     "output_type": "execute_result"
    }
   ],
   "source": [
    "# Calculate RMSE\n",
    "rmse = np.sqrt(mean_squared_error(y_test, y_predict))\n",
    "rmse"
   ]
  },
  {
   "cell_type": "code",
   "execution_count": 10,
   "metadata": {},
   "outputs": [
    {
     "data": {
      "text/plain": [
       "[11.03899918385165,\n",
       " 10.695305350555104,\n",
       " 10.996615645823058,\n",
       " 10.761381439070494,\n",
       " 10.61557814309429,\n",
       " 10.643203823048916,\n",
       " 11.480614439621686,\n",
       " 11.246493184224887,\n",
       " 11.151317797663006,\n",
       " 10.453606322852785,\n",
       " 9.687787801590718,\n",
       " 10.5116821515291,\n",
       " 11.451635236712267,\n",
       " 12.25022302545882,\n",
       " 9.600479601763467,\n",
       " 11.352975765167592,\n",
       " 10.932004152106803,\n",
       " 9.96982272985151,\n",
       " 10.260886028100495,\n",
       " 9.92279490286555,\n",
       " 9.978136636933371,\n",
       " 10.410145010506907,\n",
       " 10.93973997074141,\n",
       " 11.67874913000331,\n",
       " 11.528083110392053]"
      ]
     },
     "execution_count": 10,
     "metadata": {},
     "output_type": "execute_result"
    }
   ],
   "source": [
    "# Calculate RMSE of other models\n",
    "rmse_models = []\n",
    "for c in X_test.columns:\n",
    "    rmse_models.append(np.sqrt(mean_squared_error(y_test, X_test[c])))\n",
    "rmse_models"
   ]
  },
  {
   "cell_type": "markdown",
   "metadata": {},
   "source": [
    "### Discussion\n",
    "Yes, the RMSE of the ensemble model is smaller than all the individual models and thus we have a better result from the ensemble model."
   ]
  },
  {
   "cell_type": "markdown",
   "metadata": {},
   "source": [
    "## Part 2:"
   ]
  },
  {
   "cell_type": "markdown",
   "metadata": {},
   "source": [
    "### Preparation for deploying model next week"
   ]
  },
  {
   "cell_type": "markdown",
   "metadata": {},
   "source": [
    "***NOTE: Complete task 4 from the milestone3 before coming here***"
   ]
  },
  {
   "cell_type": "markdown",
   "metadata": {},
   "source": [
    "We’ve found the best hyperparameter settings with MLlib (from the task 4 from milestone3), here we then use the same hyperparameters to train a scikit-learn model. "
   ]
  },
  {
   "cell_type": "code",
   "execution_count": 14,
   "metadata": {},
   "outputs": [
    {
     "data": {
      "text/plain": [
       "RandomForestRegressor(max_depth=5, n_estimators=50, random_state=25)"
      ]
     },
     "execution_count": 14,
     "metadata": {},
     "output_type": "execute_result"
    }
   ],
   "source": [
    "model = RandomForestRegressor(random_state=25, n_estimators=50, max_depth=5)\n",
    "model.fit(X_train, y_train)"
   ]
  },
  {
   "cell_type": "code",
   "execution_count": 15,
   "metadata": {},
   "outputs": [
    {
     "name": "stdout",
     "output_type": "stream",
     "text": [
      "Train RMSE: 7.90\n",
      " Test RMSE: 8.66\n"
     ]
    }
   ],
   "source": [
    "print(\n",
    "    f\"Train RMSE: {mean_squared_error(y_train, model.predict(X_train), squared=False):.2f}\"\n",
    ")\n",
    "print(\n",
    "    f\" Test RMSE: {mean_squared_error(y_test, model.predict(X_test), squared=False):.2f}\"\n",
    ")"
   ]
  },
  {
   "cell_type": "code",
   "execution_count": 16,
   "metadata": {},
   "outputs": [
    {
     "data": {
      "text/plain": [
       "['model.joblib']"
      ]
     },
     "execution_count": 16,
     "metadata": {},
     "output_type": "execute_result"
    }
   ],
   "source": [
    "# ready to deploy\n",
    "dump(model, \"model.joblib\")"
   ]
  },
  {
   "cell_type": "markdown",
   "metadata": {},
   "source": [
    "***Upload model.joblib to s3 under output folder. You choose how you want to upload it (using CLI, SDK, or web console).***"
   ]
  }
 ],
 "metadata": {
  "kernelspec": {
   "display_name": "Python [conda env:525_2022]",
   "language": "python",
   "name": "conda-env-525_2022-py"
  },
  "language_info": {
   "codemirror_mode": {
    "name": "ipython",
    "version": 3
   },
   "file_extension": ".py",
   "mimetype": "text/x-python",
   "name": "python",
   "nbconvert_exporter": "python",
   "pygments_lexer": "ipython3",
   "version": "3.8.6"
  }
 },
 "nbformat": 4,
 "nbformat_minor": 4
}
